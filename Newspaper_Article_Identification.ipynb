{
 "cells": [
  {
   "cell_type": "code",
   "execution_count": 47,
   "metadata": {},
   "outputs": [],
   "source": [
    "import os\n",
    "from pathlib import Path\n",
    "from os import listdir\n",
    "from os.path import join\n",
    "import string\n",
    "import pandas as pd\n",
    "import numpy as np"
   ]
  },
  {
   "cell_type": "code",
   "execution_count": 48,
   "metadata": {},
   "outputs": [
    {
     "data": {
      "text/plain": [
       "'/home/jilow/Documents/python/NLP'"
      ]
     },
     "execution_count": 48,
     "metadata": {},
     "output_type": "execute_result"
    }
   ],
   "source": [
    "pwd"
   ]
  },
  {
   "cell_type": "code",
   "execution_count": 49,
   "metadata": {},
   "outputs": [],
   "source": [
    "path = \"../ML Project 2/20_newsgroups\""
   ]
  },
  {
   "cell_type": "code",
   "execution_count": 50,
   "metadata": {},
   "outputs": [],
   "source": [
    "folders = [f for f in listdir(path)]"
   ]
  },
  {
   "cell_type": "code",
   "execution_count": 51,
   "metadata": {},
   "outputs": [
    {
     "data": {
      "text/plain": [
       "['comp.os.ms-windows.misc',\n",
       " 'comp.windows.x',\n",
       " 'sci.electronics',\n",
       " 'sci.crypt',\n",
       " 'misc.forsale',\n",
       " 'rec.sport.hockey',\n",
       " 'rec.sport.baseball',\n",
       " 'talk.politics.mideast',\n",
       " 'soc.religion.christian',\n",
       " 'comp.sys.mac.hardware',\n",
       " 'talk.politics.guns',\n",
       " 'comp.sys.ibm.pc.hardware',\n",
       " 'comp.graphics',\n",
       " 'rec.autos',\n",
       " 'talk.religion.misc',\n",
       " 'talk.politics.misc',\n",
       " 'sci.space',\n",
       " 'rec.motorcycles',\n",
       " 'alt.atheism',\n",
       " 'sci.med']"
      ]
     },
     "execution_count": 51,
     "metadata": {},
     "output_type": "execute_result"
    }
   ],
   "source": [
    "folders"
   ]
  },
  {
   "cell_type": "code",
   "execution_count": 52,
   "metadata": {},
   "outputs": [],
   "source": [
    "files = []\n",
    "for folder_name in folders:\n",
    "    folder_path = join(path, folder_name)\n",
    "    files.append([f for f in listdir(folder_path)])"
   ]
  },
  {
   "cell_type": "code",
   "execution_count": 53,
   "metadata": {},
   "outputs": [],
   "source": [
    "X = []\n",
    "for fo in range(len(folders)):\n",
    "    for fi in files[fo]:\n",
    "        X.append(join(path, join(folders[fo], fi)))"
   ]
  },
  {
   "cell_type": "code",
   "execution_count": 54,
   "metadata": {},
   "outputs": [
    {
     "data": {
      "text/plain": [
       "5997"
      ]
     },
     "execution_count": 54,
     "metadata": {},
     "output_type": "execute_result"
    }
   ],
   "source": [
    "len(X)"
   ]
  },
  {
   "cell_type": "code",
   "execution_count": 55,
   "metadata": {},
   "outputs": [],
   "source": [
    "Y = []\n",
    "for folder_name in folders:\n",
    "    folder_path = join(path, folder_name)\n",
    "    num_of_files= len(listdir(folder_path))\n",
    "    for i in range(num_of_files):\n",
    "        Y.append(folder_name)"
   ]
  },
  {
   "cell_type": "code",
   "execution_count": 56,
   "metadata": {},
   "outputs": [
    {
     "data": {
      "text/plain": [
       "['soc.religion.christian',\n",
       " 'soc.religion.christian',\n",
       " 'soc.religion.christian',\n",
       " 'soc.religion.christian',\n",
       " 'soc.religion.christian',\n",
       " 'soc.religion.christian',\n",
       " 'soc.religion.christian',\n",
       " 'soc.religion.christian',\n",
       " 'soc.religion.christian',\n",
       " 'soc.religion.christian']"
      ]
     },
     "execution_count": 56,
     "metadata": {},
     "output_type": "execute_result"
    }
   ],
   "source": [
    "Y[:10]"
   ]
  },
  {
   "cell_type": "code",
   "execution_count": 76,
   "metadata": {},
   "outputs": [],
   "source": [
    "X_new = []\n",
    "for i in X:\n",
    "    with open(i,encoding = \"ISO-8859-1\") as f:\n",
    "        text_data = f.read()\n",
    "        X_new.append(text_data)"
   ]
  },
  {
   "cell_type": "code",
   "execution_count": 77,
   "metadata": {},
   "outputs": [
    {
     "data": {
      "text/plain": [
       "5997"
      ]
     },
     "execution_count": 77,
     "metadata": {},
     "output_type": "execute_result"
    }
   ],
   "source": [
    "len(X_new)"
   ]
  },
  {
   "cell_type": "code",
   "execution_count": 78,
   "metadata": {},
   "outputs": [],
   "source": [
    "X_new = np.array(X_new)"
   ]
  },
  {
   "cell_type": "code",
   "execution_count": 79,
   "metadata": {},
   "outputs": [
    {
     "data": {
      "text/plain": [
       "(5997,)"
      ]
     },
     "execution_count": 79,
     "metadata": {},
     "output_type": "execute_result"
    }
   ],
   "source": [
    "X_new.shape"
   ]
  },
  {
   "cell_type": "code",
   "execution_count": 80,
   "metadata": {},
   "outputs": [],
   "source": [
    "df = pd.DataFrame(X_new,columns=['text'])"
   ]
  },
  {
   "cell_type": "code",
   "execution_count": 81,
   "metadata": {},
   "outputs": [
    {
     "data": {
      "text/html": [
       "<div>\n",
       "<style scoped>\n",
       "    .dataframe tbody tr th:only-of-type {\n",
       "        vertical-align: middle;\n",
       "    }\n",
       "\n",
       "    .dataframe tbody tr th {\n",
       "        vertical-align: top;\n",
       "    }\n",
       "\n",
       "    .dataframe thead th {\n",
       "        text-align: right;\n",
       "    }\n",
       "</style>\n",
       "<table border=\"1\" class=\"dataframe\">\n",
       "  <thead>\n",
       "    <tr style=\"text-align: right;\">\n",
       "      <th></th>\n",
       "      <th>text</th>\n",
       "    </tr>\n",
       "  </thead>\n",
       "  <tbody>\n",
       "    <tr>\n",
       "      <td>0</td>\n",
       "      <td>Path: cantaloupe.srv.cs.cmu.edu!crabapple.srv....</td>\n",
       "    </tr>\n",
       "    <tr>\n",
       "      <td>1</td>\n",
       "      <td>Xref: cantaloupe.srv.cs.cmu.edu soc.religion.c...</td>\n",
       "    </tr>\n",
       "    <tr>\n",
       "      <td>2</td>\n",
       "      <td>Xref: cantaloupe.srv.cs.cmu.edu soc.religion.c...</td>\n",
       "    </tr>\n",
       "    <tr>\n",
       "      <td>3</td>\n",
       "      <td>Path: cantaloupe.srv.cs.cmu.edu!crabapple.srv....</td>\n",
       "    </tr>\n",
       "    <tr>\n",
       "      <td>4</td>\n",
       "      <td>Xref: cantaloupe.srv.cs.cmu.edu soc.religion.c...</td>\n",
       "    </tr>\n",
       "  </tbody>\n",
       "</table>\n",
       "</div>"
      ],
      "text/plain": [
       "                                                text\n",
       "0  Path: cantaloupe.srv.cs.cmu.edu!crabapple.srv....\n",
       "1  Xref: cantaloupe.srv.cs.cmu.edu soc.religion.c...\n",
       "2  Xref: cantaloupe.srv.cs.cmu.edu soc.religion.c...\n",
       "3  Path: cantaloupe.srv.cs.cmu.edu!crabapple.srv....\n",
       "4  Xref: cantaloupe.srv.cs.cmu.edu soc.religion.c..."
      ]
     },
     "execution_count": 81,
     "metadata": {},
     "output_type": "execute_result"
    }
   ],
   "source": [
    "df.head()"
   ]
  },
  {
   "cell_type": "code",
   "execution_count": 82,
   "metadata": {},
   "outputs": [
    {
     "data": {
      "text/plain": [
       "\"Path: cantaloupe.srv.cs.cmu.edu!crabapple.srv.cs.cmu.edu!fs7.ece.cmu.edu!europa.eng.gtefsd.com!howland.reston.ans.net!newsserver.jvnc.net!rutgers!igor.rutgers.edu!geneva.rutgers.edu!christian\\nFrom: hayesstw@risc1.unisa.ac.za (Steve Hayes)\\nNewsgroups: soc.religion.christian\\nSubject: Re: The arrogance of Christians\\nMessage-ID: <Apr.22.00.56.15.1993.2073@geneva.rutgers.edu>\\nDate: 22 Apr 93 04:56:15 GMT\\nSender: hedrick@geneva.rutgers.edu\\nOrganization: University of South Africa\\nLines: 36\\nApproved: christian@aramis.rutgers.edu\\n\\nIn article <Apr.16.23.18.07.1993.1879@geneva.rutgers.edu> phs431d@vaxc.cc.monash.edu.au writes:\\n>But what if the geologists are wrong and these people are warning of a\\n>non-existent danger?  Analogies can only push an argument so far (on both\\n>sides).  Both Melinda's and yours assume the premises used to set up your\\n>respective analogies are true and thus the correct conclusion will arise.\\n>\\n>The important point to note is the different directions both sides come from.\\n>Christians believe they know the TRUTH and thus believe they have the right\\n>(and duty) to tell the TRUTH to all.  \\n>\\n>Christians can get offended if others do not believe (what is self-evidently\\n>to them) the TRUTH. Non-christians do not believe this is the TRUTH and get\\n>offended at them because they (christians) claim to know the TRUTH.\\n\\nThe analogy does not depend on the premisses being true, because the \\nquestion under discussion is not truth but arrogance. \\n\\nA similar analogy might be a medical doctor who believes that a blood \\ntransfusion is necessary to save the life of a child whose parents are \\nJehovah's Witnesses and so have conscientious objections to blood \\ntransfusion. The doctor's efforts to persuade them to agree to a blood \\ntransfusion could be perceived to be arrogant in precisely the same way as \\nChristians could be perceived to be arrogant.\\n\\nThe truth or otherwise of the belief that a blood transfusion is necessary \\nto save the life of the child is irrelevant here. What matters is that the \\ndoctor BELIEVES it to be true, and could be seen to be trying to foce his \\nbeliefs on the parents, and this could well be perceived as arrogance.\\n\\n============================================================\\nSteve Hayes, Department of Missiology & Editorial Department\\nUniv. of South Africa, P.O. Box 392, Pretoria, 0001 South Africa\\nInternet: hayesstw@risc1.unisa.ac.za         Fidonet: 5:7101/20\\n          steve.hayes@p5.f22.n7101.z5.fidonet.org\\nFAQ: Missiology is the study of Christian mission and is part of\\n     the Faculty of Theology at Unisa\\n\""
      ]
     },
     "execution_count": 82,
     "metadata": {},
     "output_type": "execute_result"
    }
   ],
   "source": [
    "df['text'].iloc[0]"
   ]
  },
  {
   "cell_type": "code",
   "execution_count": 83,
   "metadata": {},
   "outputs": [],
   "source": [
    "from sklearn.feature_extraction.text import CountVectorizer"
   ]
  },
  {
   "cell_type": "code",
   "execution_count": 84,
   "metadata": {},
   "outputs": [],
   "source": [
    "cv = CountVectorizer(max_df=0.9,min_df=2,stop_words='english')"
   ]
  },
  {
   "cell_type": "code",
   "execution_count": 85,
   "metadata": {},
   "outputs": [],
   "source": [
    "dtm = cv.fit_transform(df['text'])"
   ]
  },
  {
   "cell_type": "code",
   "execution_count": 86,
   "metadata": {},
   "outputs": [
    {
     "data": {
      "text/plain": [
       "<5997x38640 sparse matrix of type '<class 'numpy.int64'>'\n",
       "\twith 790386 stored elements in Compressed Sparse Row format>"
      ]
     },
     "execution_count": 86,
     "metadata": {},
     "output_type": "execute_result"
    }
   ],
   "source": [
    "dtm"
   ]
  },
  {
   "cell_type": "code",
   "execution_count": 87,
   "metadata": {},
   "outputs": [],
   "source": [
    "from sklearn.decomposition import LatentDirichletAllocation"
   ]
  },
  {
   "cell_type": "code",
   "execution_count": 88,
   "metadata": {},
   "outputs": [],
   "source": [
    "lda = LatentDirichletAllocation(n_components=20,random_state=42)"
   ]
  },
  {
   "cell_type": "code",
   "execution_count": 89,
   "metadata": {},
   "outputs": [
    {
     "data": {
      "text/plain": [
       "LatentDirichletAllocation(batch_size=128, doc_topic_prior=None,\n",
       "                          evaluate_every=-1, learning_decay=0.7,\n",
       "                          learning_method='batch', learning_offset=10.0,\n",
       "                          max_doc_update_iter=100, max_iter=10,\n",
       "                          mean_change_tol=0.001, n_components=20, n_jobs=None,\n",
       "                          perp_tol=0.1, random_state=42, topic_word_prior=None,\n",
       "                          total_samples=1000000.0, verbose=0)"
      ]
     },
     "execution_count": 89,
     "metadata": {},
     "output_type": "execute_result"
    }
   ],
   "source": [
    "lda.fit(dtm)"
   ]
  },
  {
   "cell_type": "code",
   "execution_count": 91,
   "metadata": {},
   "outputs": [
    {
     "data": {
      "text/plain": [
       "38640"
      ]
     },
     "execution_count": 91,
     "metadata": {},
     "output_type": "execute_result"
    }
   ],
   "source": [
    "len(cv.get_feature_names())"
   ]
  },
  {
   "cell_type": "code",
   "execution_count": 92,
   "metadata": {},
   "outputs": [
    {
     "data": {
      "text/plain": [
       "(20, 38640)"
      ]
     },
     "execution_count": 92,
     "metadata": {},
     "output_type": "execute_result"
    }
   ],
   "source": [
    "lda.components_.shape"
   ]
  },
  {
   "cell_type": "code",
   "execution_count": 94,
   "metadata": {},
   "outputs": [],
   "source": [
    "# getting the top 20 words for each article"
   ]
  },
  {
   "cell_type": "code",
   "execution_count": 93,
   "metadata": {},
   "outputs": [
    {
     "name": "stdout",
     "output_type": "stream",
     "text": [
      "top 20 words for topic 0\n",
      "['believe', 'church', 'igor', 'gmt', 'christ', 'christians', 'bible', '93', 'sender', 'people', 'soc', 'net', 'geneva', '1993', 'athos', 'jesus', 'religion', 'god', 'christian', 'rutgers']\n",
      "\n",
      "\n",
      "top 20 words for topic 1\n",
      "['bear', 'references', 'net', 'evolution', 'ohio', 'writes', 'tek', 'state', 'theory', 'misc', 'halat', 'alt', 'ctron', 'religion', 'bu', 'origins', 'atheism', 'news', 'talk', 'com']\n",
      "\n",
      "\n",
      "top 20 words for topic 2\n",
      "['ibm', 'howland', 'ans', 'motorcycles', 'car', 'sender', 'autos', '1993', 'att', 'ohio', 'state', 'references', 'article', 'writes', 'gmt', 'hp', 'rec', 'net', 'news', 'com']\n",
      "\n",
      "\n",
      "top 20 words for topic 3\n",
      "['ra', 'drives', 'drive', 'article', 'harvard', 'net', 'acc', 'state', 'hard', 'virginia', 'disk', 'okstate', 'yeast', 'news', 'candida', 'royalroads', 'freenet', 'com', 'carleton', 'ca']\n",
      "\n",
      "\n",
      "top 20 words for topic 4\n",
      "['howland', 'nntp', 'mnemosyne', 'reston', 'state', 'posting', 'freenet', 'ohio', 'com', 'news', 'gmt', 'po', 'university', 'du', 'cleveland', 'net', 'drive', 'usenet', 'ins', 'cwru']\n",
      "\n",
      "\n",
      "top 20 words for topic 5\n",
      "['alaska', 'acs', 'indiana', 'magnus', 'sci', 'sender', 'article', 'references', 'usenet', '1993', 'space', 'gmt', 'university', 'writes', 'net', 'ohio', 'state', 'cso', 'uiuc', 'news']\n",
      "\n",
      "\n",
      "top 20 words for topic 6\n",
      "['like', 'stephanopoulos', 'believe', 'does', 've', 'work', 'way', 'said', 'say', 'did', 'make', 'just', 'going', 'time', 'know', 'mr', 'president', 'don', 'people', 'think']\n",
      "\n",
      "\n",
      "top 20 words for topic 7\n",
      "['article', 'space', 'abortion', 'gmt', '1993', 'references', 'ti', 'ohio', 'state', 'writes', 'sci', 'berkeley', 'digex', 'access', 'misc', 'talk', 'news', 'net', 'netcom', 'com']\n",
      "\n",
      "\n",
      "top 20 words for topic 8\n",
      "['program', 'color', 'available', 'use', 'gov', 'format', 'news', 'data', 'software', 'gif', 'ftp', 'com', 'files', 'images', 'stratus', 'file', 'jpeg', 'image', 'comp', 'graphics']\n",
      "\n",
      "\n",
      "top 20 words for topic 9\n",
      "['cc', 'hiv', 'university', 'gmt', 'net', 'bnr', 'insurance', '10', 'com', '12', 'virginia', 'state', 'columbia', '92', 'new', 'canada', 'health', '1993', 'news', 'ca']\n",
      "\n",
      "\n",
      "top 20 words for topic 10\n",
      "['cc', 'religion', 'sender', 'uug', 'writes', 'article', 'newton', 'talk', 'gmt', 'alt', 'references', 'ohio', 'state', 'net', 'arizona', 'news', 'kent', 'sandvik', 'com', 'apple']\n",
      "\n",
      "\n",
      "top 20 words for topic 11\n",
      "['howland', 'reston', '16', 'ans', 'card', 'drive', 'ohio', '1993', 'gmt', 'scsi', 'state', 'pc', 'net', 'ibm', 'news', 'com', 'mac', 'hardware', 'sys', 'comp']\n",
      "\n",
      "\n",
      "top 20 words for topic 12\n",
      "['reston', 'ans', 'guns', 'mps', 'gun', '1993', 'washington', 'alt', 'writes', 'isc', 'references', 'article', 'politics', 'gmt', 'ohio', 'pitt', 'net', 'state', 'news', 'com']\n",
      "\n",
      "\n",
      "top 20 words for topic 13\n",
      "['comp', 'host', 'university', 'state', 'posting', 'sgi', 'reston', 'ans', 'howland', 'nntp', 'writes', 'references', 'cc', 'caltech', 'gmt', 'net', 'news', 'com', 'ac', 'uk']\n",
      "\n",
      "\n",
      "top 20 words for topic 14\n",
      "['abortion', 'mantis', 'horus', 'misc', 'objective', 'uk', 'ap', 'morality', 'religion', 'sni', 'mchp', 'article', 'frank', 'say', 'writes', 'alt', 'sun', 'atheism', 'talk', 'com']\n",
      "\n",
      "\n",
      "top 20 words for topic 15\n",
      "['oz', 'gmt', 'science', 'university', 'request', 'net', 'information', 'com', 'mail', '1993', 'center', 'list', 'send', 'research', 'news', 'sci', 'au', 'gov', 'nasa', 'space']\n",
      "\n",
      "\n",
      "top 20 words for topic 16\n",
      "['ca', 'cars', 'oil', 'usenet', '1993', 'references', 'net', 'writes', 'cc', 'article', 'ecn', 'ohio', 'gmt', 'state', 'purdue', 'car', 'news', 'com', 'autos', 'rec']\n",
      "\n",
      "\n",
      "top 20 words for topic 17\n",
      "['just', 'howland', '93', 'ohio', 'kaldis', 'time', 'navy', 'like', 'org', 'rec', 'bike', 'ysu', 'state', '1993', 'motorcycles', 'gmt', 'andrew', 'net', 'news', 'com']\n",
      "\n",
      "\n",
      "top 20 words for topic 18\n",
      "['koresh', 'just', 'references', 'children', 'soc', 'fbi', 'government', 'xref', 'religion', 'state', 'article', 'news', 'writes', 'guns', 'alt', 'people', 'misc', 'com', 'politics', 'talk']\n",
      "\n",
      "\n",
      "top 20 words for topic 19\n",
      "['xref', 'physics', 'astro', 'references', 'umd', 'food', 'toronto', 'henry', '1993', 'eng', 'net', 'news', 'alt', 'com', 'space', 'jpl', 'med', 'gov', 'nasa', 'sci']\n",
      "\n",
      "\n"
     ]
    }
   ],
   "source": [
    "for index,topic in enumerate(lda.components_):\n",
    "    print(f\"top 20 words for topic {index}\")\n",
    "    print([cv.get_feature_names()[index] for index in topic.argsort()[-20:]])\n",
    "    print()\n",
    "    print()"
   ]
  },
  {
   "cell_type": "code",
   "execution_count": null,
   "metadata": {},
   "outputs": [],
   "source": []
  }
 ],
 "metadata": {
  "kernelspec": {
   "display_name": "Python 3",
   "language": "python",
   "name": "python3"
  },
  "language_info": {
   "codemirror_mode": {
    "name": "ipython",
    "version": 3
   },
   "file_extension": ".py",
   "mimetype": "text/x-python",
   "name": "python",
   "nbconvert_exporter": "python",
   "pygments_lexer": "ipython3",
   "version": "3.7.4"
  }
 },
 "nbformat": 4,
 "nbformat_minor": 2
}
